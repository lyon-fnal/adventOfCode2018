{
 "cells": [
  {
   "cell_type": "markdown",
   "metadata": {},
   "source": [
    "# Day 02 - Advent of Code 2018\n",
    "\n",
    "https://adventofcode.com/2018/"
   ]
  },
  {
   "cell_type": "markdown",
   "metadata": {},
   "source": [
    "## Day 2a\n",
    "\n",
    "You have a list of IDs. The IDs are made up of letters. Count how many IDs have exactly two of any letter. Count how many IDs have exactly three of any letter. The product of those counts is the checksum. Note that an ID that has \"two pair\" counts as one. "
   ]
  },
  {
   "cell_type": "code",
   "execution_count": 66,
   "metadata": {},
   "outputs": [
    {
     "name": "stdout",
     "output_type": "stream",
     "text": [
      "myhposlqgeauywfikztndcvrqr\n",
      "mbhposlxfeauywoikztndcvjqi\n",
      "mbhpoulxgeagywfikytndcvjqr\n",
      "jbhposlxgeauywdikztndcvjqk\n",
      "mbhpsslxueauywfikzfndcvjqr\n",
      "mbhposnxgeauzyfikztndcvjqr\n",
      "ibhposlxgetvywfikztndcvjqr\n",
      "mbcposlxgeauywfikztxdcvjqv\n",
      "mlhposltgeauywfikitndcvjqr\n",
      "mbhpostxgeauywfikztndjvjqy\n"
     ]
    }
   ],
   "source": [
    ";head day2a.input"
   ]
  },
  {
   "cell_type": "code",
   "execution_count": 67,
   "metadata": {},
   "outputs": [
    {
     "name": "stdout",
     "output_type": "stream",
     "text": [
      "     250 day2a.input\n"
     ]
    }
   ],
   "source": [
    ";wc -l day2a.input"
   ]
  },
  {
   "cell_type": "code",
   "execution_count": 68,
   "metadata": {},
   "outputs": [
    {
     "data": {
      "text/plain": [
       "250-element Array{String,1}:\n",
       " \"myhposlqgeauywfikztndcvrqr\"\n",
       " \"mbhposlxfeauywoikztndcvjqi\"\n",
       " \"mbhpoulxgeagywfikytndcvjqr\"\n",
       " \"jbhposlxgeauywdikztndcvjqk\"\n",
       " \"mbhpsslxueauywfikzfndcvjqr\"\n",
       " \"mbhposnxgeauzyfikztndcvjqr\"\n",
       " \"ibhposlxgetvywfikztndcvjqr\"\n",
       " \"mbcposlxgeauywfikztxdcvjqv\"\n",
       " \"mlhposltgeauywfikitndcvjqr\"\n",
       " \"mbhpostxgeauywfikztndjvjqy\"\n",
       " \"mboboslxglauywfikztndcvjqr\"\n",
       " \"mbhpoglxgeahywfikztndcvjqp\"\n",
       " \"mbhposlxgeapydpikztndcvjqr\"\n",
       " ⋮                           \n",
       " \"ybhposmxgeauywfikztndcviqr\"\n",
       " \"mrwposlxgeauywfikztndpvjqr\"\n",
       " \"mbhposlxneauywfikztndcbjqh\"\n",
       " \"mbhpowlxheauywfikztndcojqr\"\n",
       " \"mbeposlxgeauywfiwztnycvjqr\"\n",
       " \"mbhposixgeapywfikztndcvvqr\"\n",
       " \"mbhposlxgeauywfikztnbcvjap\"\n",
       " \"mzhposixgenuywfikztndcvjqr\"\n",
       " \"mbhposgxgeauywyikztndvvjqr\"\n",
       " \"mbhposajgeauywfikztzdcvjqr\"\n",
       " \"mbhyoslxgeauywfikzsndcvxqr\"\n",
       " \"mbhposlxgdauywfikmtndcljqr\""
      ]
     },
     "execution_count": 68,
     "metadata": {},
     "output_type": "execute_result"
    }
   ],
   "source": [
    "ids = readlines(\"day2a.input\")"
   ]
  },
  {
   "cell_type": "markdown",
   "metadata": {},
   "source": [
    "We basically want to run length encode the string and look for two and three counts."
   ]
  },
  {
   "cell_type": "code",
   "execution_count": 76,
   "metadata": {},
   "outputs": [
    {
     "data": {
      "text/plain": [
       "\"abcdecfghijhklmhopq\""
      ]
     },
     "execution_count": 76,
     "metadata": {},
     "output_type": "execute_result"
    }
   ],
   "source": [
    "s = \"abcdecfghijhklmhopq\""
   ]
  },
  {
   "cell_type": "code",
   "execution_count": 80,
   "metadata": {},
   "outputs": [
    {
     "data": {
      "text/plain": [
       "19-element Array{Char,1}:\n",
       " 'a'\n",
       " 'b'\n",
       " 'c'\n",
       " 'c'\n",
       " 'd'\n",
       " 'e'\n",
       " 'f'\n",
       " 'g'\n",
       " 'h'\n",
       " 'h'\n",
       " 'h'\n",
       " 'i'\n",
       " 'j'\n",
       " 'k'\n",
       " 'l'\n",
       " 'm'\n",
       " 'o'\n",
       " 'p'\n",
       " 'q'"
      ]
     },
     "execution_count": 80,
     "metadata": {},
     "output_type": "execute_result"
    }
   ],
   "source": [
    "s_sorted = collect(s) |> sort"
   ]
  },
  {
   "cell_type": "code",
   "execution_count": 178,
   "metadata": {},
   "outputs": [
    {
     "data": {
      "text/plain": [
       "hasTwoOrThreeLetterGroups (generic function with 1 method)"
      ]
     },
     "execution_count": 178,
     "metadata": {},
     "output_type": "execute_result"
    }
   ],
   "source": [
    "function hasTwoOrThreeLetterGroups(sSorted::Array{Char, 1})\n",
    "    v = sSorted[1]\n",
    "    c = 1\n",
    "    hasTwo = false\n",
    "    hasThree = false\n",
    "    for e in sSorted[2:end]\n",
    "        if e == v\n",
    "            c += 1\n",
    "        else\n",
    "            if c == 2\n",
    "                hasTwo = true\n",
    "            elseif c == 3\n",
    "                hasThree = true\n",
    "            end\n",
    "            c = 1\n",
    "        end\n",
    "        v = e\n",
    "    end\n",
    "            if c == 2  # Catch the end - kinda ugly to repeat\n",
    "        hasTwo = true\n",
    "    elseif c == 3\n",
    "        hasThree = true\n",
    "    end\n",
    "    return hasTwo, hasThree\n",
    "end"
   ]
  },
  {
   "cell_type": "code",
   "execution_count": 91,
   "metadata": {},
   "outputs": [
    {
     "data": {
      "text/plain": [
       "(true, true)"
      ]
     },
     "execution_count": 91,
     "metadata": {},
     "output_type": "execute_result"
    }
   ],
   "source": [
    "hasTwoOrThreeLetterGroups(s_sorted)"
   ]
  },
  {
   "cell_type": "code",
   "execution_count": 93,
   "metadata": {},
   "outputs": [
    {
     "data": {
      "text/plain": [
       "(true, false)"
      ]
     },
     "execution_count": 93,
     "metadata": {},
     "output_type": "execute_result"
    }
   ],
   "source": [
    "hasTwoOrThreeLetterGroups(sort(collect(\"aabc\")))"
   ]
  },
  {
   "cell_type": "code",
   "execution_count": 94,
   "metadata": {},
   "outputs": [
    {
     "data": {
      "text/plain": [
       "(true, true)"
      ]
     },
     "execution_count": 94,
     "metadata": {},
     "output_type": "execute_result"
    }
   ],
   "source": [
    "hasTwoOrThreeLetterGroups(sort(collect(\"aeaebec\")))"
   ]
  },
  {
   "cell_type": "code",
   "execution_count": 100,
   "metadata": {},
   "outputs": [
    {
     "data": {
      "text/plain": [
       "(false, false)"
      ]
     },
     "execution_count": 100,
     "metadata": {},
     "output_type": "execute_result"
    }
   ],
   "source": [
    "hasTwoOrThreeLetterGroups(sort(collect(\"aebcf\")))"
   ]
  },
  {
   "cell_type": "code",
   "execution_count": 102,
   "metadata": {},
   "outputs": [],
   "source": [
    "idsSorted = [sort(collect(id)) for id in ids] ; "
   ]
  },
  {
   "cell_type": "code",
   "execution_count": 105,
   "metadata": {},
   "outputs": [
    {
     "data": {
      "text/plain": [
       "5-element Array{Tuple{Bool,Bool},1}:\n",
       " (true, false)\n",
       " (true, false)\n",
       " (true, false)\n",
       " (true, false)\n",
       " (true, false)"
      ]
     },
     "execution_count": 105,
     "metadata": {},
     "output_type": "execute_result"
    }
   ],
   "source": [
    "counts = [hasTwoOrThreeLetterGroups(ids) for ids in idsSorted] ; counts[1:5]"
   ]
  },
  {
   "cell_type": "code",
   "execution_count": 109,
   "metadata": {},
   "outputs": [
    {
     "data": {
      "text/plain": [
       "249"
      ]
     },
     "execution_count": 109,
     "metadata": {},
     "output_type": "execute_result"
    }
   ],
   "source": [
    "nTwos = sum( [x[1] for x in counts] )"
   ]
  },
  {
   "cell_type": "code",
   "execution_count": 110,
   "metadata": {},
   "outputs": [
    {
     "data": {
      "text/plain": [
       "26"
      ]
     },
     "execution_count": 110,
     "metadata": {},
     "output_type": "execute_result"
    }
   ],
   "source": [
    "nThrees = sum( [x[2] for x in counts] )"
   ]
  },
  {
   "cell_type": "code",
   "execution_count": 111,
   "metadata": {},
   "outputs": [
    {
     "data": {
      "text/plain": [
       "6474"
      ]
     },
     "execution_count": 111,
     "metadata": {},
     "output_type": "execute_result"
    }
   ],
   "source": [
    "nTwos * nThrees"
   ]
  },
  {
   "cell_type": "markdown",
   "metadata": {},
   "source": [
    "### From Slack...\n",
    "\n",
    "Note that `StatsBase` has an `rle` (run length encoder) function"
   ]
  },
  {
   "cell_type": "code",
   "execution_count": 181,
   "metadata": {},
   "outputs": [
    {
     "name": "stderr",
     "output_type": "stream",
     "text": [
      "WARNING: using StatsBase.counts in module Main conflicts with an existing identifier.\n",
      "WARNING: both StatsBase and BenchmarkTools export \"trim\"; uses of it in module Main must be qualified\n"
     ]
    }
   ],
   "source": [
    "using StatsBase"
   ]
  },
  {
   "cell_type": "code",
   "execution_count": 185,
   "metadata": {},
   "outputs": [
    {
     "data": {
      "text/plain": [
       "Dict{Char,Int64} with 23 entries:\n",
       "  'n' => 1\n",
       "  'f' => 1\n",
       "  'w' => 1\n",
       "  'd' => 1\n",
       "  'e' => 1\n",
       "  'o' => 1\n",
       "  'h' => 1\n",
       "  'y' => 2\n",
       "  's' => 1\n",
       "  'i' => 1\n",
       "  'k' => 1\n",
       "  't' => 1\n",
       "  'r' => 2\n",
       "  'q' => 2\n",
       "  'a' => 1\n",
       "  'c' => 1\n",
       "  'p' => 1\n",
       "  'm' => 1\n",
       "  'z' => 1\n",
       "  'g' => 1\n",
       "  'v' => 1\n",
       "  'l' => 1\n",
       "  'u' => 1"
      ]
     },
     "execution_count": 185,
     "metadata": {},
     "output_type": "execute_result"
    }
   ],
   "source": [
    "countmap(collect(ids[1]))"
   ]
  },
  {
   "cell_type": "code",
   "execution_count": 189,
   "metadata": {},
   "outputs": [
    {
     "name": "stdout",
     "output_type": "stream",
     "text": [
      "  170.827 μs (2501 allocations: 476.58 KiB)\n"
     ]
    },
    {
     "data": {
      "text/plain": [
       "6474"
      ]
     },
     "execution_count": 189,
     "metadata": {},
     "output_type": "execute_result"
    }
   ],
   "source": [
    "function getchecksum(strings)\n",
    "    twos, threes = 0, 0\n",
    "    for string in strings\n",
    "        cm = countmap(collect(string))\n",
    "        2 ∈ values(cm) && (twos += 1)\n",
    "        3 ∈ values(cm) && (threes += 1)\n",
    "    end\n",
    "    twos * threes\n",
    "end\n",
    "\n",
    "@btime getchecksum(ids)"
   ]
  },
  {
   "cell_type": "markdown",
   "metadata": {},
   "source": [
    "With run legnth encoding..."
   ]
  },
  {
   "cell_type": "code",
   "execution_count": 195,
   "metadata": {},
   "outputs": [
    {
     "data": {
      "text/plain": [
       "withRle (generic function with 1 method)"
      ]
     },
     "execution_count": 195,
     "metadata": {},
     "output_type": "execute_result"
    }
   ],
   "source": [
    "x = read(\"day2a.input\", String)\n",
    "function withRle(x)\n",
    "    y = collect.(split(x))\n",
    "    z = (x -> rle(x)[2]).(sort.(y))\n",
    "    sum(3 in zz for zz in z)*sum(2 in zz for zz in z)\n",
    "end"
   ]
  },
  {
   "cell_type": "code",
   "execution_count": 197,
   "metadata": {},
   "outputs": [
    {
     "name": "stdout",
     "output_type": "stream",
     "text": [
      "  285.945 μs (4739 allocations: 426.52 KiB)\n"
     ]
    },
    {
     "data": {
      "text/plain": [
       "6474"
      ]
     },
     "execution_count": 197,
     "metadata": {},
     "output_type": "execute_result"
    }
   ],
   "source": [
    "@btime withRle(x)"
   ]
  },
  {
   "cell_type": "markdown",
   "metadata": {},
   "source": [
    "Try without the `StatsBase` functions"
   ]
  },
  {
   "cell_type": "code",
   "execution_count": 199,
   "metadata": {},
   "outputs": [
    {
     "name": "stdout",
     "output_type": "stream",
     "text": [
      "  203.810 μs (2253 allocations: 475.41 KiB)\n"
     ]
    },
    {
     "data": {
      "text/plain": [
       "6474"
      ]
     },
     "execution_count": 199,
     "metadata": {},
     "output_type": "execute_result"
    }
   ],
   "source": [
    "function count_map(elems::AbstractArray{T}) where T\n",
    "    counts = Dict{T,Int}()\n",
    "    for x in elems\n",
    "        counts[x] = get(counts, x, 0) + 1\n",
    "    end\n",
    "    counts\n",
    "end\n",
    "\n",
    "function day2as(ids)\n",
    "    idsc = collect.(ids)\n",
    "    n2and3 = reduce((x,y)->x.+y, (x -> (2∈x, 3∈x)).(values.(count_map.(idsc))))\n",
    "    checksum = prod(n2and3)\n",
    "end\n",
    "\n",
    "@btime day2as(ids)"
   ]
  },
  {
   "cell_type": "markdown",
   "metadata": {},
   "source": [
    "## Day 2b\n",
    "\n",
    "There will be two IDs that differ by only one letter in a position. What are the letters that those two IDs have in common? We have to do a big search...\n",
    "\n",
    "intersect(\"abc\", \"abe\")"
   ]
  },
  {
   "cell_type": "code",
   "execution_count": 219,
   "metadata": {},
   "outputs": [
    {
     "data": {
      "text/plain": [
       "day2b (generic function with 1 method)"
      ]
     },
     "execution_count": 219,
     "metadata": {},
     "output_type": "execute_result"
    }
   ],
   "source": [
    "function day2b(ids::Array{String,1})\n",
    "    w = 0\n",
    "    for i in 1:(length(ids)-1)\n",
    "        c = ids[i]\n",
    "        for j in i+1:length(ids)\n",
    "            d = ids[j]\n",
    "            ndiff = 0\n",
    "            for k in 1:length(c)\n",
    "                if c[k] != d[k]\n",
    "                    ndiff += 1\n",
    "                    w = k # where is the difference\n",
    "                end\n",
    "            end\n",
    "            if ndiff == 1\n",
    "                ## We found it!\n",
    "                #println(i,\" \", c, \" \",j, \" \",d)\n",
    "                return ( c[1:w-1] * c[w+1:end] )\n",
    "            end\n",
    "        end\n",
    "    end\n",
    "end"
   ]
  },
  {
   "cell_type": "code",
   "execution_count": 222,
   "metadata": {},
   "outputs": [
    {
     "data": {
      "text/plain": [
       "\"mxhwoglxgeauywfkztndcvjqr\""
      ]
     },
     "execution_count": 222,
     "metadata": {},
     "output_type": "execute_result"
    }
   ],
   "source": [
    "day2b(ids)"
   ]
  },
  {
   "cell_type": "code",
   "execution_count": 221,
   "metadata": {},
   "outputs": [
    {
     "name": "stdout",
     "output_type": "stream",
     "text": [
      "  972.633 μs (3 allocations: 112 bytes)\n"
     ]
    },
    {
     "data": {
      "text/plain": [
       "\"mxhwoglxgeauywfkztndcvjqr\""
      ]
     },
     "execution_count": 221,
     "metadata": {},
     "output_type": "execute_result"
    }
   ],
   "source": [
    "@btime day2b(ids)"
   ]
  },
  {
   "cell_type": "markdown",
   "metadata": {},
   "source": [
    "Note how the compiler optimized away my assignments (except for the return)!"
   ]
  },
  {
   "cell_type": "code",
   "execution_count": 131,
   "metadata": {},
   "outputs": [
    {
     "name": "stdout",
     "output_type": "stream",
     "text": [
      "mxhwoglxgeauywfdkztndcvjqr\n",
      "mxhwoglxgeauywfikztndcvjqr\n"
     ]
    }
   ],
   "source": [
    "println(ids[76]) ; println(ids[106])"
   ]
  },
  {
   "cell_type": "markdown",
   "metadata": {},
   "source": [
    "### From slack..."
   ]
  },
  {
   "cell_type": "code",
   "execution_count": null,
   "metadata": {},
   "outputs": [],
   "source": [
    "Base.product()"
   ]
  },
  {
   "cell_type": "code",
   "execution_count": 203,
   "metadata": {},
   "outputs": [
    {
     "data": {
      "text/plain": [
       "day2bs (generic function with 1 method)"
      ]
     },
     "execution_count": 203,
     "metadata": {},
     "output_type": "execute_result"
    }
   ],
   "source": [
    "function day2bs(ids)\n",
    "    y = collect.(ids)\n",
    "    u, v = [(u, v) for (u,v) in Base.product(y, y) if sum(u .!= v) == 1 ][1]\n",
    "    prod(last.(intersect(enumerate(u), enumerate(v))))\n",
    "end"
   ]
  },
  {
   "cell_type": "code",
   "execution_count": 205,
   "metadata": {},
   "outputs": [
    {
     "name": "stdout",
     "output_type": "stream",
     "text": [
      "  53.839 ms (438094 allocations: 270.91 MiB)\n"
     ]
    },
    {
     "data": {
      "text/plain": [
       "\"mxhwoglxgeauywfkztndcvjqr\""
      ]
     },
     "execution_count": 205,
     "metadata": {},
     "output_type": "execute_result"
    }
   ],
   "source": [
    "@btime day2bs(ids)"
   ]
  },
  {
   "cell_type": "markdown",
   "metadata": {},
   "source": [
    "Interesting that my way is such much faster"
   ]
  },
  {
   "cell_type": "code",
   "execution_count": 206,
   "metadata": {},
   "outputs": [
    {
     "data": {
      "text/plain": [
       "5-element Array{String,1}:\n",
       " \"myhposlqgeauywfikztndcvrqr\"\n",
       " \"mbhposlxfeauywoikztndcvjqi\"\n",
       " \"mbhpoulxgeagywfikytndcvjqr\"\n",
       " \"jbhposlxgeauywdikztndcvjqk\"\n",
       " \"mbhpsslxueauywfikzfndcvjqr\""
      ]
     },
     "execution_count": 206,
     "metadata": {},
     "output_type": "execute_result"
    }
   ],
   "source": [
    "idsS = ids[1:5]"
   ]
  },
  {
   "cell_type": "code",
   "execution_count": 207,
   "metadata": {},
   "outputs": [
    {
     "data": {
      "text/plain": [
       "5-element Array{Array{Char,1},1}:\n",
       " ['m', 'y', 'h', 'p', 'o', 's', 'l', 'q', 'g', 'e'  …  'k', 'z', 't', 'n', 'd', 'c', 'v', 'r', 'q', 'r']\n",
       " ['m', 'b', 'h', 'p', 'o', 's', 'l', 'x', 'f', 'e'  …  'k', 'z', 't', 'n', 'd', 'c', 'v', 'j', 'q', 'i']\n",
       " ['m', 'b', 'h', 'p', 'o', 'u', 'l', 'x', 'g', 'e'  …  'k', 'y', 't', 'n', 'd', 'c', 'v', 'j', 'q', 'r']\n",
       " ['j', 'b', 'h', 'p', 'o', 's', 'l', 'x', 'g', 'e'  …  'k', 'z', 't', 'n', 'd', 'c', 'v', 'j', 'q', 'k']\n",
       " ['m', 'b', 'h', 'p', 's', 's', 'l', 'x', 'u', 'e'  …  'k', 'z', 'f', 'n', 'd', 'c', 'v', 'j', 'q', 'r']"
      ]
     },
     "execution_count": 207,
     "metadata": {},
     "output_type": "execute_result"
    }
   ],
   "source": [
    "y = collect.(idsS)"
   ]
  },
  {
   "cell_type": "code",
   "execution_count": 208,
   "metadata": {},
   "outputs": [
    {
     "data": {
      "text/plain": [
       "Base.Iterators.ProductIterator{Tuple{Array{String,1},Array{String,1}}}(([\"myhposlqgeauywfikztndcvrqr\", \"mbhposlxfeauywoikztndcvjqi\", \"mbhpoulxgeagywfikytndcvjqr\", \"jbhposlxgeauywdikztndcvjqk\", \"mbhpsslxueauywfikzfndcvjqr\"], [\"myhposlqgeauywfikztndcvrqr\", \"mbhposlxfeauywoikztndcvjqi\", \"mbhpoulxgeagywfikytndcvjqr\", \"jbhposlxgeauywdikztndcvjqk\", \"mbhpsslxueauywfikzfndcvjqr\"]))"
      ]
     },
     "execution_count": 208,
     "metadata": {},
     "output_type": "execute_result"
    }
   ],
   "source": [
    "Base.product( idsS, idsS)"
   ]
  }
 ],
 "metadata": {
  "kernelspec": {
   "display_name": "Julia 1.0.2",
   "language": "julia",
   "name": "julia-1.0"
  },
  "language_info": {
   "file_extension": ".jl",
   "mimetype": "application/julia",
   "name": "julia",
   "version": "1.0.2"
  }
 },
 "nbformat": 4,
 "nbformat_minor": 2
}
