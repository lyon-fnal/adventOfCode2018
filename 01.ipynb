{
 "cells": [
  {
   "cell_type": "markdown",
   "metadata": {},
   "source": [
    "# Day 01 - Advent of Code 2018\n",
    "\n",
    "https://adventofcode.com/2018/"
   ]
  },
  {
   "cell_type": "markdown",
   "metadata": {},
   "source": [
    "## Day 1a\n",
    "\n",
    "Problem: Add up strings that represent values, for example, \n",
    "\n",
    "- +1, +1, +1 results in  3\n",
    "- +1, +1, -2 results in  0\n",
    "- -1, -2, -3 results in -6\n",
    "\n",
    "My input file is at `day1a.input`. "
   ]
  },
  {
   "cell_type": "code",
   "execution_count": 5,
   "metadata": {},
   "outputs": [
    {
     "name": "stdout",
     "output_type": "stream",
     "text": [
      "+6\n",
      "-17\n",
      "+16\n",
      "+7\n",
      "+12\n",
      "+2\n",
      "-7\n",
      "-5\n",
      "-4\n",
      "-16\n"
     ]
    }
   ],
   "source": [
    ";head day1a.input"
   ]
  },
  {
   "cell_type": "code",
   "execution_count": 6,
   "metadata": {},
   "outputs": [
    {
     "name": "stdout",
     "output_type": "stream",
     "text": [
      "+11\n",
      "-35\n",
      "-23\n",
      "+11\n",
      "-10\n",
      "-5\n",
      "+3\n",
      "-15\n",
      "-15\n",
      "+128514\n"
     ]
    }
   ],
   "source": [
    ";tail day1a.input"
   ]
  },
  {
   "cell_type": "code",
   "execution_count": 9,
   "metadata": {},
   "outputs": [
    {
     "name": "stdout",
     "output_type": "stream",
     "text": [
      "    1014 day1a.input\n"
     ]
    }
   ],
   "source": [
    ";wc -l day1a.input"
   ]
  },
  {
   "cell_type": "code",
   "execution_count": 10,
   "metadata": {},
   "outputs": [
    {
     "data": {
      "text/plain": [
       "day1a (generic function with 2 methods)"
      ]
     },
     "execution_count": 10,
     "metadata": {},
     "output_type": "execute_result"
    }
   ],
   "source": [
    "function day1a(filename::AbstractString, startValue::Int64 = 0)\n",
    "    value = startValue\n",
    "    for line in eachline(filename)\n",
    "        value += parse(Int64, line)\n",
    "    end\n",
    "    return value\n",
    "end "
   ]
  },
  {
   "cell_type": "code",
   "execution_count": 11,
   "metadata": {},
   "outputs": [
    {
     "data": {
      "text/plain": [
       "470"
      ]
     },
     "execution_count": 11,
     "metadata": {},
     "output_type": "execute_result"
    }
   ],
   "source": [
    "day1a(\"day1a.input\")"
   ]
  },
  {
   "cell_type": "markdown",
   "metadata": {},
   "source": [
    "From slack - in one line! -"
   ]
  },
  {
   "cell_type": "code",
   "execution_count": 139,
   "metadata": {},
   "outputs": [
    {
     "data": {
      "text/plain": [
       "470"
      ]
     },
     "execution_count": 139,
     "metadata": {},
     "output_type": "execute_result"
    }
   ],
   "source": [
    "sum( parse.(Int, readlines(\"day1a.input\")))"
   ]
  },
  {
   "cell_type": "markdown",
   "metadata": {},
   "source": [
    "## Day 1b\n",
    "\n",
    "Loop through the values and watch the frequency. If we make a frequency that we've seen before, then stop and report that frequency. We may need to loop through the list more than once to get there. For example, \n",
    "\n",
    "```+7, +7, -2, -7, -4 first reaches 14 twice.``` Let's try this example"
   ]
  },
  {
   "cell_type": "code",
   "execution_count": 60,
   "metadata": {},
   "outputs": [
    {
     "data": {
      "text/plain": [
       "5-element Array{Int64,1}:\n",
       "  7\n",
       "  7\n",
       " -2\n",
       " -7\n",
       " -4"
      ]
     },
     "execution_count": 60,
     "metadata": {},
     "output_type": "execute_result"
    }
   ],
   "source": [
    "l = [7, 7, -2, -7, -4]   # We put a zero at the front for the previous sum"
   ]
  },
  {
   "cell_type": "code",
   "execution_count": 61,
   "metadata": {},
   "outputs": [
    {
     "data": {
      "text/plain": [
       "day1b (generic function with 1 method)"
      ]
     },
     "execution_count": 61,
     "metadata": {},
     "output_type": "execute_result"
    }
   ],
   "source": [
    "function day1b(l::Array{Int, 1})\n",
    "    vals::Array{Int64, 1} = [0]\n",
    "    rounds = 1\n",
    "    while true\n",
    "        for e in l\n",
    "            newVal = vals[end] + e\n",
    "            if newVal in vals\n",
    "                return newVal, rounds\n",
    "            end\n",
    "            append!(vals, newVal)\n",
    "        end\n",
    "        rounds += 1\n",
    "    end\n",
    "end"
   ]
  },
  {
   "cell_type": "code",
   "execution_count": 62,
   "metadata": {},
   "outputs": [
    {
     "data": {
      "text/plain": [
       "(14, 3)"
      ]
     },
     "execution_count": 62,
     "metadata": {},
     "output_type": "execute_result"
    }
   ],
   "source": [
    "day1b(l)"
   ]
  },
  {
   "cell_type": "markdown",
   "metadata": {},
   "source": [
    "So, for ours, let's turn the file into an integer array"
   ]
  },
  {
   "cell_type": "code",
   "execution_count": 145,
   "metadata": {},
   "outputs": [
    {
     "data": {
      "text/plain": [
       "1014-element Array{Int64,1}:\n",
       "      6\n",
       "    -17\n",
       "     16\n",
       "      7\n",
       "     12\n",
       "      2\n",
       "     -7\n",
       "     -5\n",
       "     -4\n",
       "    -16\n",
       "      2\n",
       "     12\n",
       "    -16\n",
       "      ⋮\n",
       "     12\n",
       "      5\n",
       "     11\n",
       "    -35\n",
       "    -23\n",
       "     11\n",
       "    -10\n",
       "     -5\n",
       "      3\n",
       "    -15\n",
       "    -15\n",
       " 128514"
      ]
     },
     "execution_count": 145,
     "metadata": {},
     "output_type": "execute_result"
    }
   ],
   "source": [
    "ld = [parse(Int, e) for e in eachline(\"day1a.input\")]"
   ]
  },
  {
   "cell_type": "code",
   "execution_count": 150,
   "metadata": {},
   "outputs": [
    {
     "name": "stdout",
     "output_type": "stream",
     "text": [
      "  3.424009 seconds (23 allocations: 3.001 MiB)\n"
     ]
    },
    {
     "data": {
      "text/plain": [
       "(790, 138)"
      ]
     },
     "execution_count": 150,
     "metadata": {},
     "output_type": "execute_result"
    }
   ],
   "source": [
    "@time day1b(ld)"
   ]
  },
  {
   "cell_type": "markdown",
   "metadata": {},
   "source": [
    "So the repeated value is 790. We had to run through the list of values 138 times!"
   ]
  },
  {
   "cell_type": "markdown",
   "metadata": {},
   "source": [
    "## From Slack"
   ]
  },
  {
   "cell_type": "markdown",
   "metadata": {},
   "source": [
    "From Slack... here's a slow way..."
   ]
  },
  {
   "cell_type": "code",
   "execution_count": 172,
   "metadata": {},
   "outputs": [
    {
     "data": {
      "text/plain": [
       "day1bs1 (generic function with 1 method)"
      ]
     },
     "execution_count": 172,
     "metadata": {},
     "output_type": "execute_result"
    }
   ],
   "source": [
    "function day1bs1(input::Array{Int, 1})  # From Nick Robinson\n",
    "    total = 0\n",
    "    seen = Set{Int}([0])  # This makes the search fast?\n",
    "    for i in Iterators.cycle(input) # Neat!  Just keeps looping over array, entry value into i\n",
    "        total += i\n",
    "        if total in seen\n",
    "            return(total)\n",
    "            break\n",
    "        else\n",
    "            push!(seen, total)\n",
    "        end\n",
    "    end\n",
    "end"
   ]
  },
  {
   "cell_type": "code",
   "execution_count": 2,
   "metadata": {},
   "outputs": [
    {
     "ename": "UndefVarError",
     "evalue": "UndefVarError: day1bs1 not defined",
     "output_type": "error",
     "traceback": [
      "UndefVarError: day1bs1 not defined",
      "",
      "Stacktrace:",
      " [1] top-level scope at util.jl:156",
      " [2] top-level scope at In[2]:1"
     ]
    }
   ],
   "source": [
    "@time day1bs1(ld)"
   ]
  },
  {
   "cell_type": "markdown",
   "metadata": {},
   "source": [
    "Here's an even faster way"
   ]
  },
  {
   "cell_type": "code",
   "execution_count": 159,
   "metadata": {},
   "outputs": [
    {
     "data": {
      "text/plain": [
       "day1bs2 (generic function with 1 method)"
      ]
     },
     "execution_count": 159,
     "metadata": {},
     "output_type": "execute_result"
    }
   ],
   "source": [
    "function day1bs2(input)  # From Dave F Kleinschmidt\n",
    "    seen = BitSet([0])\n",
    "    freq = 0\n",
    "    for i in Iterators.cycle(input)\n",
    "        freq += i\n",
    "        if freq ∈ seen\n",
    "            return freq\n",
    "        else\n",
    "            push!(seen, freq)\n",
    "        end\n",
    "    end\n",
    "end"
   ]
  },
  {
   "cell_type": "code",
   "execution_count": 164,
   "metadata": {},
   "outputs": [
    {
     "name": "stdout",
     "output_type": "stream",
     "text": [
      "  0.000411 seconds (14 allocations: 49.094 KiB)\n"
     ]
    },
    {
     "data": {
      "text/plain": [
       "790"
      ]
     },
     "execution_count": 164,
     "metadata": {},
     "output_type": "execute_result"
    }
   ],
   "source": [
    "@time day1bs2(ld)"
   ]
  },
  {
   "cell_type": "markdown",
   "metadata": {},
   "source": [
    "What about using a regular array?"
   ]
  },
  {
   "cell_type": "code",
   "execution_count": 165,
   "metadata": {},
   "outputs": [
    {
     "data": {
      "text/plain": [
       "day1bs3 (generic function with 1 method)"
      ]
     },
     "execution_count": 165,
     "metadata": {},
     "output_type": "execute_result"
    }
   ],
   "source": [
    "function day1bs3(input)\n",
    "    seen::Array{Int64, 1} = [0]\n",
    "    freq = 0\n",
    "    for i in Iterators.cycle(input)\n",
    "        freq += i\n",
    "        if freq ∈ seen\n",
    "            return freq\n",
    "        else\n",
    "            push!(seen, freq)\n",
    "        end\n",
    "    end\n",
    "end"
   ]
  },
  {
   "cell_type": "code",
   "execution_count": 168,
   "metadata": {},
   "outputs": [
    {
     "name": "stdout",
     "output_type": "stream",
     "text": [
      "  3.430409 seconds (23 allocations: 3.001 MiB)\n"
     ]
    },
    {
     "data": {
      "text/plain": [
       "790"
      ]
     },
     "execution_count": 168,
     "metadata": {},
     "output_type": "execute_result"
    }
   ],
   "source": [
    "@time day1bs3(ld)"
   ]
  },
  {
   "cell_type": "markdown",
   "metadata": {},
   "source": [
    "So not having a set is really slow searching!"
   ]
  },
  {
   "cell_type": "code",
   "execution_count": 170,
   "metadata": {},
   "outputs": [],
   "source": [
    "using BenchmarkTools"
   ]
  },
  {
   "cell_type": "code",
   "execution_count": 174,
   "metadata": {},
   "outputs": [
    {
     "name": "stdout",
     "output_type": "stream",
     "text": [
      "  3.315 ms (34 allocations: 3.00 MiB)\n"
     ]
    },
    {
     "data": {
      "text/plain": [
       "790"
      ]
     },
     "execution_count": 174,
     "metadata": {},
     "output_type": "execute_result"
    }
   ],
   "source": [
    "@btime day1bs1(ld)  # with Set"
   ]
  },
  {
   "cell_type": "code",
   "execution_count": 175,
   "metadata": {},
   "outputs": [
    {
     "name": "stdout",
     "output_type": "stream",
     "text": [
      "  257.845 μs (10 allocations: 48.94 KiB)\n"
     ]
    },
    {
     "data": {
      "text/plain": [
       "790"
      ]
     },
     "execution_count": 175,
     "metadata": {},
     "output_type": "execute_result"
    }
   ],
   "source": [
    "@btime day1bs2(ld)  # with BitSet"
   ]
  },
  {
   "cell_type": "code",
   "execution_count": 177,
   "metadata": {},
   "outputs": [
    {
     "name": "stdout",
     "output_type": "stream",
     "text": [
      "  3.281 s (19 allocations: 3.00 MiB)\n"
     ]
    },
    {
     "data": {
      "text/plain": [
       "790"
      ]
     },
     "execution_count": 177,
     "metadata": {},
     "output_type": "execute_result"
    }
   ],
   "source": [
    "@btime day1bs3(ld)  # With regular array [yuck!]"
   ]
  }
 ],
 "metadata": {
  "kernelspec": {
   "display_name": "Julia 1.0.2",
   "language": "julia",
   "name": "julia-1.0"
  },
  "language_info": {
   "file_extension": ".jl",
   "mimetype": "application/julia",
   "name": "julia",
   "version": "1.0.2"
  }
 },
 "nbformat": 4,
 "nbformat_minor": 2
}
